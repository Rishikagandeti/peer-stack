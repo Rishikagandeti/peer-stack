{
 "cells": [
  {
   "cell_type": "markdown",
   "id": "95c08705",
   "metadata": {},
   "source": [
    "# peer-stack"
   ]
  },
  {
   "cell_type": "markdown",
   "id": "7d8d4328",
   "metadata": {},
   "source": []
  },
  {
   "cell_type": "markdown",
   "id": "d2a8dfd2",
   "metadata": {},
   "source": [
    "📁 Folder Structure:\n",
    "\n",
    "peer-stack/\n",
    "├── README.md\n",
    "├── CONTRIBUTING.md\n",
    "├── notes/\n",
    "│   ├── member1/\n",
    "│   │   ├── html/\n",
    "│   │   │   ├── intro.md\n",
    "│   │   │   └── tags.md\n",
    "│   │   ├── css/\n",
    "│   │   │   ├── basics.md\n",
    "│   │   └── js/\n",
    "│   │       └── functions.md\n",
    "│   ├── member2/\n",
    "│   │   └── ...\n",
    "│   ├── .gitkeep\n",
    "├── templates/\n",
    "│   └── note-template.md"
   ]
  },
  {
   "cell_type": "markdown",
   "id": "cb80ebed",
   "metadata": {},
   "source": [
    "### 1. Create the Main Folder\n",
    "\n",
    "mkdir peer-stack\n",
    "cd peer-stack"
   ]
  },
  {
   "cell_type": "markdown",
   "id": "8e119876",
   "metadata": {},
   "source": [
    "### 2. Initialize Git Repo\n",
    "\n",
    "git init        # Initialize Git\n",
    "\n",
    "git config --global user.email \"ashokkumar.120300.com\"\n",
    "git config --global user.name \"ashokkumar-kola\""
   ]
  },
  {
   "cell_type": "markdown",
   "id": "74a97470",
   "metadata": {},
   "source": [
    "### 3. Create Initial Folder Structure\n",
    "\n",
    "mkdir -p notes/{member1,member2,member3} templates\n",
    "mkdir -p notes/ashokkumar-kola templates\n",
    "\n",
    "touch README.md CONTRIBUTING.md CONTRIBUTORS.md notes/.gitkeep templates/note-template.md"
   ]
  },
  {
   "cell_type": "markdown",
   "id": "1f6703bf",
   "metadata": {},
   "source": [
    "### 4. Commit Your Work\n",
    "\n",
    "git add .                                                  # Stage all files\n",
    "git commit -m \"Initial project setup for peer-stack\"       # First commit\n"
   ]
  },
  {
   "cell_type": "markdown",
   "id": "395d0544",
   "metadata": {},
   "source": [
    "### 5. Create GitHub Repo (named peer-stack)\n",
    "\n",
    "- Go to GitHub, create a new repo named peer-stack, DO NOT initialize with README (you already have one).\n",
    "\n",
    "- Or use VS Code's “Publish to GitHub” option from the Source Control tab."
   ]
  },
  {
   "cell_type": "markdown",
   "id": "ae884ad0",
   "metadata": {},
   "source": [
    "### 6. Push to GitHub (manual way)\n",
    "\n",
    "git branch -M main       # Rename to 'main' (standard)\n",
    "\n",
    "git remote add origin https://github.com/ashokkumar-kola/peer-stack.git\n",
    "git push -u origin main\n"
   ]
  },
  {
   "cell_type": "markdown",
   "id": "263f18d5",
   "metadata": {},
   "source": [
    "git remote add origin https://github.com/your-username/repo-name.git\n",
    "git push -u origin main"
   ]
  },
  {
   "cell_type": "markdown",
   "id": "f41b5f2c",
   "metadata": {},
   "source": []
  },
  {
   "cell_type": "markdown",
   "id": "32219bf2",
   "metadata": {},
   "source": [
    "# contributor"
   ]
  },
  {
   "cell_type": "markdown",
   "id": "daacf4ed",
   "metadata": {},
   "source": [
    "### 1. Fork the repository (on GitHub)\n",
    "\n",
    "- Go to the repo page ➜ Click \"Fork\" (top-right)\n",
    "- `https://github.com/your-username/peer-stack`\n"
   ]
  },
  {
   "cell_type": "markdown",
   "id": "5166fdd1",
   "metadata": {},
   "source": [
    "### 2. Clone your fork locally\n",
    "\n",
    "- `git clone https://github.com/your-username/peer-stack`\n",
    "- `cd peer-stack`\n",
    "- `code .`"
   ]
  },
  {
   "cell_type": "markdown",
   "id": "167fa208",
   "metadata": {},
   "source": [
    "### 3. Create a new branch\n",
    "\n",
    "git checkout -b your-branch-name\n",
    "git checkout -b add-notes-alex\n",
    "\n"
   ]
  },
  {
   "cell_type": "markdown",
   "id": "3503db80",
   "metadata": {},
   "source": [
    "### 4. Make your changes\n",
    "\n",
    "mkdir notes/alex\n",
    "touch notes/alex/html-basics.md\n",
    "\n",
    "\n",
    "mkdir -p notes/your-name/{html,css,js}\n",
    "touch notes/your-name/html/intro.md\n",
    "touch notes/your-name/css/basics.md\n",
    "touch notes/your-name/js/functions.md"
   ]
  },
  {
   "cell_type": "markdown",
   "id": "1513a096",
   "metadata": {},
   "source": []
  },
  {
   "cell_type": "markdown",
   "id": "59078ad0",
   "metadata": {},
   "source": [
    "### 5. Stage and commit\n",
    "\n",
    "git add .\n",
    "git commit -m \"Added HTML basics notes by alex\"\n"
   ]
  },
  {
   "cell_type": "markdown",
   "id": "729244f5",
   "metadata": {},
   "source": [
    "### 6. Push to your fork\n",
    "\n",
    "git push origin your-branch-name\n",
    "git push origin add-notes-alex"
   ]
  },
  {
   "cell_type": "markdown",
   "id": "1c9f3ae6",
   "metadata": {},
   "source": [
    "### 7. Create Pull Request\n",
    "\n",
    "Now go to your fork on GitHub:\n",
    "\n",
    "    https://github.com/your-username/peer-stack\n",
    "\n",
    "GitHub will show a “Compare & Pull Request” button.\n",
    "\n",
    "Click it ➜ Fill in title and description ➜ Click “Create Pull Request”"
   ]
  },
  {
   "cell_type": "markdown",
   "id": "05293cfa",
   "metadata": {},
   "source": [
    "### 💬 What to write in Pull Request:\n",
    "\n",
    "### ✍️ Summary\n",
    "Added HTML basics notes under my folder `notes/alex`.\n",
    "\n",
    "### ✅ Changes\n",
    "- Created `notes/alex/html-basics.md`\n",
    "- Added key HTML concepts with examples\n",
    "\n",
    "### 🧑‍💻 Author\n",
    "@alex-dev"
   ]
  },
  {
   "cell_type": "markdown",
   "id": "5803c75e",
   "metadata": {},
   "source": []
  }
 ],
 "metadata": {
  "language_info": {
   "name": "python"
  }
 },
 "nbformat": 4,
 "nbformat_minor": 5
}
